{
 "cells": [
  {
   "cell_type": "code",
   "execution_count": null,
   "outputs": [],
   "source": [
    "# df1 = pd.read_csv('resume_data_improved.csv')\n",
    "# df2 = pd.read_csv('resume_data_developer.csv')\n",
    "# pattern = \"resume_data\"\n",
    "# files = [f for f in os.listdir(directory) if os.path.isfile(os.path.join(directory, f)) and f.startswith(pattern)]\n",
    "# df_full = [pd.read_csv(csv) for csv in files]\n",
    "# df = pd.concat(df_full, axis=0, ignore_index=True).drop_duplicates()\n",
    "# df.shape"
   ],
   "metadata": {
    "collapsed": false
   }
  },
  {
   "cell_type": "code",
   "execution_count": null,
   "outputs": [],
   "source": [
    "df.head()"
   ],
   "metadata": {
    "collapsed": false
   }
  },
  {
   "cell_type": "code",
   "execution_count": null,
   "outputs": [],
   "source": [
    "# df = pd.concat([df1, df2], axis=0).drop_duplicates()"
   ],
   "metadata": {
    "collapsed": false
   }
  },
  {
   "cell_type": "code",
   "execution_count": null,
   "outputs": [],
   "source": [
    "df.isnull().sum() / df.shape[0] * 100"
   ],
   "metadata": {
    "collapsed": false
   }
  },
  {
   "cell_type": "code",
   "execution_count": null,
   "outputs": [],
   "source": [
    "df.info()"
   ],
   "metadata": {
    "collapsed": false
   }
  },
  {
   "cell_type": "code",
   "execution_count": null,
   "outputs": [],
   "source": [
    "df = df.drop(['Availability Date', 'Date Posted', 'Unnamed: 0', 'Reference'], axis=1)"
   ],
   "metadata": {
    "collapsed": false
   }
  },
  {
   "cell_type": "code",
   "execution_count": null,
   "outputs": [],
   "source": [
    "df.shape"
   ],
   "metadata": {
    "collapsed": false
   }
  },
  {
   "cell_type": "code",
   "execution_count": null,
   "outputs": [],
   "source": [
    "df.nunique()"
   ],
   "metadata": {
    "collapsed": false
   }
  },
  {
   "cell_type": "code",
   "execution_count": null,
   "outputs": [],
   "source": [
    "df[['Willing to Relocate', 'U.S. Work Authorization', 'Willing to Travel']].value_counts()"
   ],
   "metadata": {
    "collapsed": false
   }
  },
  {
   "cell_type": "code",
   "execution_count": null,
   "outputs": [],
   "source": [
    "# FEATURE PREPROCESSING\n",
    "import numpy as np, re\n",
    "df['Willing to Relocate'] = df['Willing to Relocate'].map({'No': 'no', 'Yes': 'yes'})\n",
    "df.loc[df['U.S. Work Authorization'] == 'Other', 'U.S. Work Authorization'] = np.nan"
   ],
   "metadata": {
    "collapsed": false
   }
  },
  {
   "cell_type": "code",
   "execution_count": null,
   "outputs": [],
   "source": [
    "def myfunc(a):\n",
    "\n",
    "    if a is np.nan:\n",
    "        return np.nan\n",
    "    res = re.search(r'([0-9]+-)*[0-9]+%$', a)\n",
    "    if res and res.group() in ['50-75%', '25%', '25-50%', '75%']:\n",
    "        return res.group()[:-1]\n",
    "    else:\n",
    "        return a\n",
    "\n",
    "df['Willing to Travel'] = df['Willing to Travel'].apply(myfunc)\n",
    "df['Willing to Travel'] = df['Willing to Travel'].map({'50-75': 0.625, 'No': 0, '25': 0.25, '25-50': 0.375})"
   ],
   "metadata": {
    "collapsed": false
   }
  },
  {
   "cell_type": "code",
   "execution_count": null,
   "outputs": [],
   "source": [
    "df.info()"
   ],
   "metadata": {
    "collapsed": false
   }
  },
  {
   "cell_type": "code",
   "execution_count": null,
   "outputs": [],
   "source": [
    "df['Desired Industry'].value_counts().sort_values(ascending=False)"
   ],
   "metadata": {
    "collapsed": false
   }
  },
  {
   "cell_type": "code",
   "execution_count": null,
   "outputs": [],
   "source": [
    "df['Role'].sort_values().unique()"
   ],
   "metadata": {
    "collapsed": false
   }
  },
  {
   "cell_type": "markdown",
   "source": [
    "# START FROM HERE"
   ],
   "metadata": {
    "collapsed": false
   }
  },
  {
   "cell_type": "code",
   "execution_count": 1,
   "outputs": [],
   "source": [
    "import re, numpy as np\n",
    "import os, pandas as pd\n",
    "directory = os.path.join(os.getcwd())\n",
    "files = [f for f in os.listdir(directory) if os.path.isfile(os.path.join(directory, f)) and re.search(r'category_[0-9]+', f)]"
   ],
   "metadata": {
    "collapsed": false
   }
  },
  {
   "cell_type": "code",
   "execution_count": 2,
   "outputs": [],
   "source": [
    "df2 = pd.concat([pd.read_csv(csv) for csv in files], axis=0, ignore_index=True).drop_duplicates()"
   ],
   "metadata": {
    "collapsed": false
   }
  },
  {
   "cell_type": "code",
   "execution_count": 3,
   "outputs": [
    {
     "data": {
      "text/plain": "Engineering                       1500\nInformation Technology            1500\nAccounting/Bookkeeping            1500\nBusiness/Management               1500\nFinance/Investment                1276\nComputer Software/Programming     1057\nBanking/Mortgage                  1007\nGraphics Design/Commercial Art     604\nCAD/Drafting                       556\nAutomotive/Mechanic                483\nComputer Hardware                  330\nQuality Control                    289\nPublic Relations                   227\nName: Desired Industry, dtype: int64"
     },
     "execution_count": 3,
     "metadata": {},
     "output_type": "execute_result"
    }
   ],
   "source": [
    "df2['Desired Industry'].value_counts()"
   ],
   "metadata": {
    "collapsed": false
   }
  },
  {
   "cell_type": "code",
   "execution_count": 4,
   "outputs": [],
   "source": [
    "df2 = df2.drop(['Availability Date', 'Date Posted', 'Unnamed: 0', 'Reference', 'Affiliations', 'Additional Information'], axis=1)"
   ],
   "metadata": {
    "collapsed": false
   }
  },
  {
   "cell_type": "code",
   "execution_count": 5,
   "outputs": [
    {
     "data": {
      "text/plain": "(11829, 15)"
     },
     "execution_count": 5,
     "metadata": {},
     "output_type": "execute_result"
    }
   ],
   "source": [
    "df2.shape"
   ],
   "metadata": {
    "collapsed": false
   }
  },
  {
   "cell_type": "code",
   "execution_count": 6,
   "outputs": [],
   "source": [
    "\n",
    "attr = ['Skills', 'Objective', 'Education', 'Experience']\n",
    "for col in attr:\n",
    "    df2[col] = df2[col].apply(lambda x: str(x).encode('ascii', errors='ignore').decode().strip())\n",
    "    df2[col] = df2[col].replace(r'^[-=]+[-=]$', np.nan ,  regex=True)\n",
    "    df2[col] = df2[col].replace(['nan', 'non'], np.nan)\n",
    "    df2[col] = df2[col].str.replace('\\t', '')\n",
    "    df2[col] = df2[col].str.replace('\\n', '.')"
   ],
   "metadata": {
    "collapsed": false
   }
  },
  {
   "cell_type": "code",
   "execution_count": 6,
   "outputs": [],
   "source": [],
   "metadata": {
    "collapsed": false
   }
  },
  {
   "cell_type": "code",
   "execution_count": 7,
   "outputs": [
    {
     "data": {
      "text/plain": "Index(['Role', 'Desired Industry', 'SpiderID', 'Desired Job Location',\n       'Type of Position', 'Desired Wage', 'U.S. Work Authorization',\n       'Job Level', 'Willing to Travel', 'Highest Degree Attained',\n       'Willing to Relocate', 'Objective', 'Experience', 'Education',\n       'Skills'],\n      dtype='object')"
     },
     "execution_count": 7,
     "metadata": {},
     "output_type": "execute_result"
    }
   ],
   "source": [
    "df2.columns"
   ],
   "metadata": {
    "collapsed": false
   }
  },
  {
   "cell_type": "code",
   "execution_count": 8,
   "outputs": [
    {
     "data": {
      "text/plain": "Engineering                       1500\nInformation Technology            1500\nAccounting/Bookkeeping            1500\nBusiness/Management               1500\nFinance/Investment                1276\nComputer Software/Programming     1057\nBanking/Mortgage                  1007\nGraphics Design/Commercial Art     604\nCAD/Drafting                       556\nAutomotive/Mechanic                483\nComputer Hardware                  330\nQuality Control                    289\nPublic Relations                   227\nName: Desired Industry, dtype: int64"
     },
     "execution_count": 8,
     "metadata": {},
     "output_type": "execute_result"
    }
   ],
   "source": [
    "df2['Desired Industry'].value_counts()"
   ],
   "metadata": {
    "collapsed": false
   }
  },
  {
   "cell_type": "code",
   "execution_count": 9,
   "outputs": [
    {
     "data": {
      "text/plain": "0        Preventive Maintenance.Process Improvement.Cha...\n1                                                     java\n2        Expert in reviewing mechanical site design dra...\n3                   Mechanichal Engineering + Mechatronics\n4        Leadership Role: HKIE Student Chapters Committ...\n                               ...                        \n11824                                                  NaN\n11825                                                  NaN\n11826                                                  NaN\n11827                                                  NaN\n11828                                                  NaN\nName: Skills, Length: 11829, dtype: object"
     },
     "execution_count": 9,
     "metadata": {},
     "output_type": "execute_result"
    }
   ],
   "source": [
    "df2.Skills"
   ],
   "metadata": {
    "collapsed": false
   }
  },
  {
   "cell_type": "code",
   "execution_count": 10,
   "outputs": [
    {
     "data": {
      "text/plain": "(11829, 15)"
     },
     "execution_count": 10,
     "metadata": {},
     "output_type": "execute_result"
    }
   ],
   "source": [
    "df2.shape"
   ],
   "metadata": {
    "collapsed": false
   }
  },
  {
   "cell_type": "code",
   "execution_count": 11,
   "outputs": [],
   "source": [
    "df2 = df2.fillna('')"
   ],
   "metadata": {
    "collapsed": false
   }
  },
  {
   "cell_type": "code",
   "execution_count": 80,
   "outputs": [],
   "source": [
    "# df2.to_csv('data.csv')"
   ],
   "metadata": {
    "collapsed": false
   }
  },
  {
   "cell_type": "code",
   "execution_count": 81,
   "outputs": [
    {
     "ename": "NameError",
     "evalue": "name 'df' is not defined",
     "output_type": "error",
     "traceback": [
      "\u001B[0;31m---------------------------------------------------------------------------\u001B[0m",
      "\u001B[0;31mNameError\u001B[0m                                 Traceback (most recent call last)",
      "Cell \u001B[0;32mIn [81], line 1\u001B[0m\n\u001B[0;32m----> 1\u001B[0m \u001B[43mdf\u001B[49m[\u001B[38;5;124m'\u001B[39m\u001B[38;5;124mSkills\u001B[39m\u001B[38;5;124m'\u001B[39m] \u001B[38;5;241m+\u001B[39m \u001B[38;5;124m'\u001B[39m\u001B[38;5;124m \u001B[39m\u001B[38;5;124m'\u001B[39m\u001B[38;5;241m+\u001B[39m df[\u001B[38;5;124m'\u001B[39m\u001B[38;5;124mObjective\u001B[39m\u001B[38;5;124m'\u001B[39m]\n",
      "\u001B[0;31mNameError\u001B[0m: name 'df' is not defined"
     ]
    }
   ],
   "source": [
    "df['Skills'] + ' '+ df['Objective']"
   ],
   "metadata": {
    "collapsed": false
   }
  },
  {
   "cell_type": "code",
   "execution_count": 12,
   "outputs": [
    {
     "data": {
      "text/plain": "Role                       0\nDesired Industry           0\nSpiderID                   0\nDesired Job Location       0\nType of Position           0\nDesired Wage               0\nU.S. Work Authorization    0\nJob Level                  0\nWilling to Travel          0\nHighest Degree Attained    0\nWilling to Relocate        0\nObjective                  0\nExperience                 0\nEducation                  0\nSkills                     0\ndtype: int64"
     },
     "execution_count": 12,
     "metadata": {},
     "output_type": "execute_result"
    }
   ],
   "source": [
    "df2.isnull().sum()"
   ],
   "metadata": {
    "collapsed": false
   }
  },
  {
   "cell_type": "markdown",
   "source": [
    "# **NLP PART**"
   ],
   "metadata": {
    "collapsed": false
   }
  },
  {
   "cell_type": "code",
   "execution_count": 13,
   "outputs": [],
   "source": [
    "import spacy"
   ],
   "metadata": {
    "collapsed": false
   }
  },
  {
   "cell_type": "code",
   "execution_count": 14,
   "outputs": [],
   "source": [
    "nlp = spacy.load('en_core_web_sm')"
   ],
   "metadata": {
    "collapsed": false
   }
  },
  {
   "cell_type": "code",
   "execution_count": 15,
   "outputs": [],
   "source": [
    "df_copy = df2.copy()"
   ],
   "metadata": {
    "collapsed": false
   }
  },
  {
   "cell_type": "code",
   "execution_count": 18,
   "outputs": [],
   "source": [
    "def preprocess_doc(doc):\n",
    "    # Tokenize the document\n",
    "    # tokens = [token.text for token in doc]\n",
    "\n",
    "    # Remove stop words\n",
    "    tokens = [token.lemma_ for token in doc if not token.is_stop and not token.is_punct]\n",
    "    # Join the tokens back into a single string\n",
    "    preprocessed_doc = ' '.join(tokens)\n",
    "\n",
    "    return preprocessed_doc"
   ],
   "metadata": {
    "collapsed": false
   }
  },
  {
   "cell_type": "code",
   "execution_count": 20,
   "outputs": [],
   "source": [
    "for col in ['Skills', 'Objective', 'Education', 'Experience']:\n",
    "    df_copy[col] = df_copy[col].apply(lambda x: preprocess_doc(nlp(x)))"
   ],
   "metadata": {
    "collapsed": false
   }
  },
  {
   "cell_type": "code",
   "execution_count": 21,
   "outputs": [
    {
     "data": {
      "text/plain": "                                                  Skills  \\\n0      Preventive Maintenance Process Improvement Cha...   \n1                                                   java   \n2      expert review mechanical site design drawing r...   \n3                  Mechanichal Engineering + mechatronic   \n4      Leadership Role HKIE Student Chapters Committe...   \n...                                                  ...   \n11824                                                      \n11825                                                      \n11826                                                      \n11827                                                      \n11828                                                      \n\n                                               Objective  \\\n0      skilled carry preventative corrective general ...   \n1      goal orient hardworke engineer graduate keen i...   \n2      hand analytical solution focus professional ex...   \n3      secure challenging role expand knowledge skill...   \n4      TARGET Jobspider Senior Mems Process Engineer ...   \n...                                                  ...   \n11824                                                      \n11825                                                      \n11826                                                      \n11827                                                      \n11828                                                      \n\n                                               Education  \\\n0      Bachelor Arts Geosciences   University North C...   \n1      Philippines Licensed Mechanical Engineer 15 ye...   \n2      Bachelor Technology Mechanichal Engineering+ A...   \n3      Bachelor Engineering Mechanical Engineering Ho...   \n4      hand analytical solution focus professional ex...   \n...                                                  ...   \n11824                                                      \n11825                                                      \n11826                                                      \n11827                                                      \n11828                                                      \n\n                                              Experience  \n0      Metro Ports Wilmington NC.Maintenance Manager ...  \n1      versatile technically astute field piping qc t...  \n2      Technical Management Trainee Eltex Appliances ...  \n3      hand analytical solution focus professional ex...  \n4      Gururaj Engineers automation Electrical Engine...  \n...                                                  ...  \n11824                                                     \n11825                                                     \n11826                                                     \n11827                                                     \n11828                                                     \n\n[11829 rows x 4 columns]",
      "text/html": "<div>\n<style scoped>\n    .dataframe tbody tr th:only-of-type {\n        vertical-align: middle;\n    }\n\n    .dataframe tbody tr th {\n        vertical-align: top;\n    }\n\n    .dataframe thead th {\n        text-align: right;\n    }\n</style>\n<table border=\"1\" class=\"dataframe\">\n  <thead>\n    <tr style=\"text-align: right;\">\n      <th></th>\n      <th>Skills</th>\n      <th>Objective</th>\n      <th>Education</th>\n      <th>Experience</th>\n    </tr>\n  </thead>\n  <tbody>\n    <tr>\n      <th>0</th>\n      <td>Preventive Maintenance Process Improvement Cha...</td>\n      <td>skilled carry preventative corrective general ...</td>\n      <td>Bachelor Arts Geosciences   University North C...</td>\n      <td>Metro Ports Wilmington NC.Maintenance Manager ...</td>\n    </tr>\n    <tr>\n      <th>1</th>\n      <td>java</td>\n      <td>goal orient hardworke engineer graduate keen i...</td>\n      <td>Philippines Licensed Mechanical Engineer 15 ye...</td>\n      <td>versatile technically astute field piping qc t...</td>\n    </tr>\n    <tr>\n      <th>2</th>\n      <td>expert review mechanical site design drawing r...</td>\n      <td>hand analytical solution focus professional ex...</td>\n      <td>Bachelor Technology Mechanichal Engineering+ A...</td>\n      <td>Technical Management Trainee Eltex Appliances ...</td>\n    </tr>\n    <tr>\n      <th>3</th>\n      <td>Mechanichal Engineering + mechatronic</td>\n      <td>secure challenging role expand knowledge skill...</td>\n      <td>Bachelor Engineering Mechanical Engineering Ho...</td>\n      <td>hand analytical solution focus professional ex...</td>\n    </tr>\n    <tr>\n      <th>4</th>\n      <td>Leadership Role HKIE Student Chapters Committe...</td>\n      <td>TARGET Jobspider Senior Mems Process Engineer ...</td>\n      <td>hand analytical solution focus professional ex...</td>\n      <td>Gururaj Engineers automation Electrical Engine...</td>\n    </tr>\n    <tr>\n      <th>...</th>\n      <td>...</td>\n      <td>...</td>\n      <td>...</td>\n      <td>...</td>\n    </tr>\n    <tr>\n      <th>11824</th>\n      <td></td>\n      <td></td>\n      <td></td>\n      <td></td>\n    </tr>\n    <tr>\n      <th>11825</th>\n      <td></td>\n      <td></td>\n      <td></td>\n      <td></td>\n    </tr>\n    <tr>\n      <th>11826</th>\n      <td></td>\n      <td></td>\n      <td></td>\n      <td></td>\n    </tr>\n    <tr>\n      <th>11827</th>\n      <td></td>\n      <td></td>\n      <td></td>\n      <td></td>\n    </tr>\n    <tr>\n      <th>11828</th>\n      <td></td>\n      <td></td>\n      <td></td>\n      <td></td>\n    </tr>\n  </tbody>\n</table>\n<p>11829 rows × 4 columns</p>\n</div>"
     },
     "execution_count": 21,
     "metadata": {},
     "output_type": "execute_result"
    }
   ],
   "source": [
    "df_copy[['Skills', 'Objective', 'Education', 'Experience']]"
   ],
   "metadata": {
    "collapsed": false
   }
  },
  {
   "cell_type": "code",
   "execution_count": 25,
   "outputs": [],
   "source": [
    "df_copy.to_csv('data.csv')"
   ],
   "metadata": {
    "collapsed": false
   }
  },
  {
   "cell_type": "code",
   "execution_count": 65,
   "outputs": [
    {
     "data": {
      "text/plain": "                                                    Role     Desired Industry  \\\n0              Director of Maintenance Operations Resume          Engineering   \n1                                  java developer Resume          Engineering   \n2                             Mechanical Engineer Resume          Engineering   \n3                                      Technician Resume          Engineering   \n4                             Mechanical Engineer Resume          Engineering   \n...                                                  ...                  ...   \n11824                                  management Resume  Business/Management   \n11825                       Office Administration Resume  Business/Management   \n11826        CEO, The Associated Consultants, LLC Resume  Business/Management   \n11827  Sales, Account Manager, Business Development, ...  Business/Management   \n11828                                     Manager Resume  Business/Management   \n\n       SpiderID        Desired Job Location     Type of Position Desired Wage  \\\n0         83950  Wilmington, North Carolina  Full-Time Permanent       115000   \n1         83927          new york, Delaware           Contractor                \n2         83916       Surrey, New Brunswick  Full-Time Permanent                \n3         83864           Edmonton, Alberta  Part-Time Permanent     22$/hour   \n4         83803            Calgary, Alberta  Full-Time Permanent                \n...         ...                         ...                  ...          ...   \n11824     26166         Arlington, Virginia  Full-Time Permanent        50000   \n11825     26160        Queen Creek, Arizona  Full-Time Permanent       41,000   \n11826     26142      Gaithersburg, Maryland  Full-Time Permanent                \n11827     26118        Winchester, Virginia  Full-Time Permanent    65,000.00   \n11828     26097            Toronto, Ontario  Full-Time Permanent                \n\n      U.S. Work Authorization                                 Job Level  \\\n0                         Yes            Management (Manager, Director)   \n1                         Yes            Management (Manager, Director)   \n2                         Yes  Experienced with over 2 years experience   \n3                                                  New Grad/Entry Level   \n4                          No                      New Grad/Entry Level   \n...                       ...                                       ...   \n11824                     Yes            Management (Manager, Director)   \n11825                     Yes  Experienced with over 2 years experience   \n11826                                    Executive (President, VP, CEO)   \n11827                     Yes            Management (Manager, Director)   \n11828                      No            Management (Manager, Director)   \n\n        Willing to Travel Highest Degree Attained Willing to Relocate  \\\n0      Yes, Less Than 25%               Bachelors                 Yes   \n1      Yes, More Than 75%               Bachelors                 Yes   \n2                                       Bachelors                 Yes   \n3             Yes, 50-75%               Bachelors                 Yes   \n4                                       Bachelors           Undecided   \n...                   ...                     ...                 ...   \n11824  Yes, Less Than 25%  High School/Equivalent                  No   \n11825                                   Bachelors                  No   \n11826                                     Masters                       \n11827                                   Bachelors                  No   \n11828  Yes, Less Than 25%                     MBA                 Yes   \n\n      Objective Experience Education Skills  \n0                                            \n1                                            \n2                                            \n3                                            \n4                                            \n...         ...        ...       ...    ...  \n11824                                        \n11825                                        \n11826                                        \n11827                                        \n11828                                        \n\n[11829 rows x 15 columns]",
      "text/html": "<div>\n<style scoped>\n    .dataframe tbody tr th:only-of-type {\n        vertical-align: middle;\n    }\n\n    .dataframe tbody tr th {\n        vertical-align: top;\n    }\n\n    .dataframe thead th {\n        text-align: right;\n    }\n</style>\n<table border=\"1\" class=\"dataframe\">\n  <thead>\n    <tr style=\"text-align: right;\">\n      <th></th>\n      <th>Role</th>\n      <th>Desired Industry</th>\n      <th>SpiderID</th>\n      <th>Desired Job Location</th>\n      <th>Type of Position</th>\n      <th>Desired Wage</th>\n      <th>U.S. Work Authorization</th>\n      <th>Job Level</th>\n      <th>Willing to Travel</th>\n      <th>Highest Degree Attained</th>\n      <th>Willing to Relocate</th>\n      <th>Objective</th>\n      <th>Experience</th>\n      <th>Education</th>\n      <th>Skills</th>\n    </tr>\n  </thead>\n  <tbody>\n    <tr>\n      <th>0</th>\n      <td>Director of Maintenance Operations Resume</td>\n      <td>Engineering</td>\n      <td>83950</td>\n      <td>Wilmington, North Carolina</td>\n      <td>Full-Time Permanent</td>\n      <td>115000</td>\n      <td>Yes</td>\n      <td>Management (Manager, Director)</td>\n      <td>Yes, Less Than 25%</td>\n      <td>Bachelors</td>\n      <td>Yes</td>\n      <td></td>\n      <td></td>\n      <td></td>\n      <td></td>\n    </tr>\n    <tr>\n      <th>1</th>\n      <td>java developer Resume</td>\n      <td>Engineering</td>\n      <td>83927</td>\n      <td>new york, Delaware</td>\n      <td>Contractor</td>\n      <td></td>\n      <td>Yes</td>\n      <td>Management (Manager, Director)</td>\n      <td>Yes, More Than 75%</td>\n      <td>Bachelors</td>\n      <td>Yes</td>\n      <td></td>\n      <td></td>\n      <td></td>\n      <td></td>\n    </tr>\n    <tr>\n      <th>2</th>\n      <td>Mechanical Engineer Resume</td>\n      <td>Engineering</td>\n      <td>83916</td>\n      <td>Surrey, New Brunswick</td>\n      <td>Full-Time Permanent</td>\n      <td></td>\n      <td>Yes</td>\n      <td>Experienced with over 2 years experience</td>\n      <td></td>\n      <td>Bachelors</td>\n      <td>Yes</td>\n      <td></td>\n      <td></td>\n      <td></td>\n      <td></td>\n    </tr>\n    <tr>\n      <th>3</th>\n      <td>Technician Resume</td>\n      <td>Engineering</td>\n      <td>83864</td>\n      <td>Edmonton, Alberta</td>\n      <td>Part-Time Permanent</td>\n      <td>22$/hour</td>\n      <td></td>\n      <td>New Grad/Entry Level</td>\n      <td>Yes, 50-75%</td>\n      <td>Bachelors</td>\n      <td>Yes</td>\n      <td></td>\n      <td></td>\n      <td></td>\n      <td></td>\n    </tr>\n    <tr>\n      <th>4</th>\n      <td>Mechanical Engineer Resume</td>\n      <td>Engineering</td>\n      <td>83803</td>\n      <td>Calgary, Alberta</td>\n      <td>Full-Time Permanent</td>\n      <td></td>\n      <td>No</td>\n      <td>New Grad/Entry Level</td>\n      <td></td>\n      <td>Bachelors</td>\n      <td>Undecided</td>\n      <td></td>\n      <td></td>\n      <td></td>\n      <td></td>\n    </tr>\n    <tr>\n      <th>...</th>\n      <td>...</td>\n      <td>...</td>\n      <td>...</td>\n      <td>...</td>\n      <td>...</td>\n      <td>...</td>\n      <td>...</td>\n      <td>...</td>\n      <td>...</td>\n      <td>...</td>\n      <td>...</td>\n      <td>...</td>\n      <td>...</td>\n      <td>...</td>\n      <td>...</td>\n    </tr>\n    <tr>\n      <th>11824</th>\n      <td>management Resume</td>\n      <td>Business/Management</td>\n      <td>26166</td>\n      <td>Arlington, Virginia</td>\n      <td>Full-Time Permanent</td>\n      <td>50000</td>\n      <td>Yes</td>\n      <td>Management (Manager, Director)</td>\n      <td>Yes, Less Than 25%</td>\n      <td>High School/Equivalent</td>\n      <td>No</td>\n      <td></td>\n      <td></td>\n      <td></td>\n      <td></td>\n    </tr>\n    <tr>\n      <th>11825</th>\n      <td>Office Administration Resume</td>\n      <td>Business/Management</td>\n      <td>26160</td>\n      <td>Queen Creek, Arizona</td>\n      <td>Full-Time Permanent</td>\n      <td>41,000</td>\n      <td>Yes</td>\n      <td>Experienced with over 2 years experience</td>\n      <td></td>\n      <td>Bachelors</td>\n      <td>No</td>\n      <td></td>\n      <td></td>\n      <td></td>\n      <td></td>\n    </tr>\n    <tr>\n      <th>11826</th>\n      <td>CEO, The Associated Consultants, LLC Resume</td>\n      <td>Business/Management</td>\n      <td>26142</td>\n      <td>Gaithersburg, Maryland</td>\n      <td>Full-Time Permanent</td>\n      <td></td>\n      <td></td>\n      <td>Executive (President, VP, CEO)</td>\n      <td></td>\n      <td>Masters</td>\n      <td></td>\n      <td></td>\n      <td></td>\n      <td></td>\n      <td></td>\n    </tr>\n    <tr>\n      <th>11827</th>\n      <td>Sales, Account Manager, Business Development, ...</td>\n      <td>Business/Management</td>\n      <td>26118</td>\n      <td>Winchester, Virginia</td>\n      <td>Full-Time Permanent</td>\n      <td>65,000.00</td>\n      <td>Yes</td>\n      <td>Management (Manager, Director)</td>\n      <td></td>\n      <td>Bachelors</td>\n      <td>No</td>\n      <td></td>\n      <td></td>\n      <td></td>\n      <td></td>\n    </tr>\n    <tr>\n      <th>11828</th>\n      <td>Manager Resume</td>\n      <td>Business/Management</td>\n      <td>26097</td>\n      <td>Toronto, Ontario</td>\n      <td>Full-Time Permanent</td>\n      <td></td>\n      <td>No</td>\n      <td>Management (Manager, Director)</td>\n      <td>Yes, Less Than 25%</td>\n      <td>MBA</td>\n      <td>Yes</td>\n      <td></td>\n      <td></td>\n      <td></td>\n      <td></td>\n    </tr>\n  </tbody>\n</table>\n<p>11829 rows × 15 columns</p>\n</div>"
     },
     "execution_count": 65,
     "metadata": {},
     "output_type": "execute_result"
    }
   ],
   "source": [
    "df_copy"
   ],
   "metadata": {
    "collapsed": false
   }
  },
  {
   "cell_type": "code",
   "execution_count": 24,
   "outputs": [],
   "source": [
    "from sklearn.model_selection import train_test_split\n",
    "feature = df_copy['Desired Industry'].values\n",
    "X = df_copy.drop('Desired Industry', axis=1)"
   ],
   "metadata": {
    "collapsed": false
   }
  },
  {
   "cell_type": "code",
   "execution_count": null,
   "outputs": [],
   "source": [
    "X_train"
   ],
   "metadata": {
    "collapsed": false
   }
  }
 ],
 "metadata": {
  "kernelspec": {
   "display_name": "Python 3",
   "language": "python",
   "name": "python3"
  },
  "language_info": {
   "codemirror_mode": {
    "name": "ipython",
    "version": 2
   },
   "file_extension": ".py",
   "mimetype": "text/x-python",
   "name": "python",
   "nbconvert_exporter": "python",
   "pygments_lexer": "ipython2",
   "version": "2.7.6"
  }
 },
 "nbformat": 4,
 "nbformat_minor": 0
}
